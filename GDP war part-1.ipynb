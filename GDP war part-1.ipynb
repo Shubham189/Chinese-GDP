{
 "cells": [
  {
   "cell_type": "markdown",
   "metadata": {
    "_uuid": "c8ab42117c9e0f5834ece5d8072dcf09b6242284",
    "deletable": true,
    "editable": true
   },
   "source": [
    "# In the early 80's the GDP per capita of China exceeded that of India although both the GDP /capita of both countries has been steadily increasing since their respective indipendence from foriegn powers.\n",
    "\n",
    "# To find : \n",
    "# Why did India lose to China in this aspect?"
   ]
  },
  {
   "cell_type": "markdown",
   "metadata": {
    "_cell_guid": "79c7e3d0-c299-4dcb-8224-4455121ee9b0",
    "_uuid": "d629ff2d2480ee46fbb7e2d37f6b5fab8052498a",
    "collapsed": true,
    "deletable": true,
    "editable": true
   },
   "source": [
    "Before the 80's India GDP was slightly higher than that of China's. But due to some reasons China grew rapidly after 1980's.\n",
    "Let's see how the GDP per capita of India and China increased during the past years.\n"
   ]
  },
  {
   "cell_type": "code",
   "execution_count": 6,
   "metadata": {
    "_uuid": "9cbf73da38c6510480d2d146b9ec48c21a232076",
    "collapsed": false,
    "deletable": true,
    "editable": true
   },
   "outputs": [],
   "source": [
    "#importing libraries\n",
    "import pandas as pd\n",
    "import matplotlib.pyplot as plt\n",
    "%matplotlib inline"
   ]
  },
  {
   "cell_type": "code",
   "execution_count": 7,
   "metadata": {
    "_uuid": "07804d6d726bb8bfc3aad8239648bec0b2ee72ae",
    "collapsed": false,
    "deletable": true,
    "editable": true
   },
   "outputs": [],
   "source": [
    "#Loading our data.\n",
    "data_ind=pd.read_csv('/home/shubham/datasets/India-China gdp war/india_gdp.csv')\n",
    "data_ch=pd.read_csv('/home/shubham/datasets/India-China gdp war/china_gdp.csv')"
   ]
  },
  {
   "cell_type": "code",
   "execution_count": 8,
   "metadata": {
    "_uuid": "80c5ab39bc16eba726a6da75f62c851a643abf7c",
    "collapsed": false,
    "deletable": true,
    "editable": true
   },
   "outputs": [
    {
     "data": {
      "text/html": [
       "<div>\n",
       "<style>\n",
       "    .dataframe thead tr:only-child th {\n",
       "        text-align: right;\n",
       "    }\n",
       "\n",
       "    .dataframe thead th {\n",
       "        text-align: left;\n",
       "    }\n",
       "\n",
       "    .dataframe tbody tr th {\n",
       "        vertical-align: top;\n",
       "    }\n",
       "</style>\n",
       "<table border=\"1\" class=\"dataframe\">\n",
       "  <thead>\n",
       "    <tr style=\"text-align: right;\">\n",
       "      <th></th>\n",
       "      <th>country</th>\n",
       "      <th>code</th>\n",
       "      <th>year</th>\n",
       "      <th>value</th>\n",
       "      <th>population</th>\n",
       "      <th>GdpPerCapita</th>\n",
       "    </tr>\n",
       "  </thead>\n",
       "  <tbody>\n",
       "    <tr>\n",
       "      <th>0</th>\n",
       "      <td>India</td>\n",
       "      <td>IND</td>\n",
       "      <td>1960</td>\n",
       "      <td>3.653593e+10</td>\n",
       "      <td>449480608</td>\n",
       "      <td>81.284764</td>\n",
       "    </tr>\n",
       "    <tr>\n",
       "      <th>1</th>\n",
       "      <td>India</td>\n",
       "      <td>IND</td>\n",
       "      <td>1961</td>\n",
       "      <td>3.870910e+10</td>\n",
       "      <td>458494963</td>\n",
       "      <td>84.426437</td>\n",
       "    </tr>\n",
       "    <tr>\n",
       "      <th>2</th>\n",
       "      <td>India</td>\n",
       "      <td>IND</td>\n",
       "      <td>1962</td>\n",
       "      <td>4.159907e+10</td>\n",
       "      <td>467852537</td>\n",
       "      <td>88.914919</td>\n",
       "    </tr>\n",
       "    <tr>\n",
       "      <th>3</th>\n",
       "      <td>India</td>\n",
       "      <td>IND</td>\n",
       "      <td>1963</td>\n",
       "      <td>4.777600e+10</td>\n",
       "      <td>477527970</td>\n",
       "      <td>100.048592</td>\n",
       "    </tr>\n",
       "    <tr>\n",
       "      <th>4</th>\n",
       "      <td>India</td>\n",
       "      <td>IND</td>\n",
       "      <td>1964</td>\n",
       "      <td>5.572687e+10</td>\n",
       "      <td>487484535</td>\n",
       "      <td>114.315161</td>\n",
       "    </tr>\n",
       "  </tbody>\n",
       "</table>\n",
       "</div>"
      ],
      "text/plain": [
       "  country code  year         value  population  GdpPerCapita\n",
       "0   India  IND  1960  3.653593e+10   449480608     81.284764\n",
       "1   India  IND  1961  3.870910e+10   458494963     84.426437\n",
       "2   India  IND  1962  4.159907e+10   467852537     88.914919\n",
       "3   India  IND  1963  4.777600e+10   477527970    100.048592\n",
       "4   India  IND  1964  5.572687e+10   487484535    114.315161"
      ]
     },
     "execution_count": 8,
     "metadata": {},
     "output_type": "execute_result"
    }
   ],
   "source": [
    "data_ind.head()"
   ]
  },
  {
   "cell_type": "code",
   "execution_count": 9,
   "metadata": {
    "_uuid": "31e8568b4439cfc62bf222cae0bc92f9f9de2df2",
    "collapsed": false,
    "deletable": true,
    "editable": true
   },
   "outputs": [
    {
     "data": {
      "text/html": [
       "<div>\n",
       "<style>\n",
       "    .dataframe thead tr:only-child th {\n",
       "        text-align: right;\n",
       "    }\n",
       "\n",
       "    .dataframe thead th {\n",
       "        text-align: left;\n",
       "    }\n",
       "\n",
       "    .dataframe tbody tr th {\n",
       "        vertical-align: top;\n",
       "    }\n",
       "</style>\n",
       "<table border=\"1\" class=\"dataframe\">\n",
       "  <thead>\n",
       "    <tr style=\"text-align: right;\">\n",
       "      <th></th>\n",
       "      <th>country</th>\n",
       "      <th>code</th>\n",
       "      <th>year</th>\n",
       "      <th>value</th>\n",
       "      <th>population</th>\n",
       "      <th>GdpPerCapita</th>\n",
       "    </tr>\n",
       "  </thead>\n",
       "  <tbody>\n",
       "    <tr>\n",
       "      <th>0</th>\n",
       "      <td>China</td>\n",
       "      <td>CHN</td>\n",
       "      <td>1960</td>\n",
       "      <td>5.971647e+10</td>\n",
       "      <td>667070000</td>\n",
       "      <td>89.520542</td>\n",
       "    </tr>\n",
       "    <tr>\n",
       "      <th>1</th>\n",
       "      <td>China</td>\n",
       "      <td>CHN</td>\n",
       "      <td>1961</td>\n",
       "      <td>5.005687e+10</td>\n",
       "      <td>660330000</td>\n",
       "      <td>75.805838</td>\n",
       "    </tr>\n",
       "    <tr>\n",
       "      <th>2</th>\n",
       "      <td>China</td>\n",
       "      <td>CHN</td>\n",
       "      <td>1962</td>\n",
       "      <td>4.720936e+10</td>\n",
       "      <td>665770000</td>\n",
       "      <td>70.909412</td>\n",
       "    </tr>\n",
       "    <tr>\n",
       "      <th>3</th>\n",
       "      <td>China</td>\n",
       "      <td>CHN</td>\n",
       "      <td>1963</td>\n",
       "      <td>5.070680e+10</td>\n",
       "      <td>682335000</td>\n",
       "      <td>74.313643</td>\n",
       "    </tr>\n",
       "    <tr>\n",
       "      <th>4</th>\n",
       "      <td>China</td>\n",
       "      <td>CHN</td>\n",
       "      <td>1964</td>\n",
       "      <td>5.970834e+10</td>\n",
       "      <td>698355000</td>\n",
       "      <td>85.498555</td>\n",
       "    </tr>\n",
       "  </tbody>\n",
       "</table>\n",
       "</div>"
      ],
      "text/plain": [
       "  country code  year         value  population  GdpPerCapita\n",
       "0   China  CHN  1960  5.971647e+10   667070000     89.520542\n",
       "1   China  CHN  1961  5.005687e+10   660330000     75.805838\n",
       "2   China  CHN  1962  4.720936e+10   665770000     70.909412\n",
       "3   China  CHN  1963  5.070680e+10   682335000     74.313643\n",
       "4   China  CHN  1964  5.970834e+10   698355000     85.498555"
      ]
     },
     "execution_count": 9,
     "metadata": {},
     "output_type": "execute_result"
    }
   ],
   "source": [
    "data_ch.head()"
   ]
  },
  {
   "cell_type": "code",
   "execution_count": 10,
   "metadata": {
    "_uuid": "545bfea131240af754abf41e0621b954e522aed3",
    "collapsed": false,
    "deletable": true,
    "editable": true
   },
   "outputs": [
    {
     "data": {
      "image/png": "[encoded data removed]",
      "text/plain": [
       "<matplotlib.figure.Figure at 0x7f01ae449f98>"
      ]
     },
     "metadata": {},
     "output_type": "display_data"
    }
   ],
   "source": [
    "#Visualizing our 2 datasets.\n",
    "plt.plot(data_ind['year'],data_ind['GdpPerCapita'],color=\"blue\",label=\"India\")\n",
    "plt.plot(data_ch['year'],data_ch['GdpPerCapita'],color=\"orange\",label=\"China\")\n",
    "plt.xlabel(\"year\")\n",
    "plt.ylabel(\"value\")\n",
    "plt.title(\"INDIA VS. CHINA IN TERMS OF GDP\")\n",
    "plt.legend()\n",
    "plt.show()"
   ]
  },
  {
   "cell_type": "markdown",
   "metadata": {
    "_kg_hide-input": false,
    "_kg_hide-output": false,
    "_uuid": "210a10af39e156e5a149f91fdbe5ee9383f39731",
    "deletable": true,
    "editable": true
   },
   "source": [
    "As we can see between the 1980's and 1990's , both country's GDP were almost same . But after 1990 China's GDP grew tremendously while India's\n",
    "GDP grew very slowly .What happened in those years that helped China overthrow India's GDP? what were the factors that helped China to grow at a prosperous rate?\n",
    "\n",
    "**Let's discuss about the factors that helped China to grow :-\n",
    "**\n",
    "# 1> Political stability\n",
    "     India is a democratic country and every decision taken in a democratic government takes a lot of time to get into effect ,i.e. due to corruption or politicallaziness or due to time taken to make the decsion ,a huge amount of time is used up to take a single decision therefore slowing the country's progress.Whereas in China , people are sensitive to the term growth. Decision making process takes very less time thus speeding up the growth rate.\n",
    "\n",
    "# 2> Quality and quantity of labourers \n",
    "      Here the quantity part might me arguable as both the country had about same quantity of workforce. But in quality India trails China in a huge margin. India's litracy rate is and was one of the lowest when compared to other countries. Also its population health, life expectancy, infant imortality rate were very low .Many facors like litracy rate, amount of labourforce, life expectancy etc. which are held in account for per capita income were very low in case of India. Thus, pulling down the country in terms of growth.\n",
    "\n",
    "\n",
    "# 3> Vision towards technological growth\n",
    "      China absorbed the statergy of local people's empowerment. They started helping their people gain technological extertise by insisting foriegn companies to share their expertise with the local workers.China focused on improving the skills of its labourforce which helped it gain a higher per capita income.\n",
    "\n",
    "# 4> Brain drain\n",
    "       India continues it's trend of being the top country of birth for immigrant scientists and engineers. Corruption and Government are destroying most of the finest talents of our country. Due to the tax policies , technological gap , better opportunity, higher salary and other factors  are the reasons for the brain drain.        Whereas in China , government is providing handsome packages and good opportunities for the graduates who have done higher studies abroad and also for immigrant and foriegn graduates. These graduates will help in development of country.\n",
    "       "
   ]
  },
  {
   "cell_type": "markdown",
   "metadata": {
    "_uuid": "1bde39dd727853475b30231d81084d9a85daeb59",
    "deletable": true,
    "editable": true
   },
   "source": [
    "In the second part we will find when in the future will India exceed China in this matter.\n",
    "\n",
    "**Happy  Learning**"
   ]
  },
  {
   "cell_type": "markdown",
   "metadata": {
    "_uuid": "ea44904c25e8fa3cf5db9c530bacd9c8a569182f",
    "deletable": true,
    "editable": true
   },
   "source": [
    "# Biblography\n",
    "* https://pkgstore.datahub.io/core/population/population_csv/data/ead5be05591360d33ad1a37382f8f8b1/population_csv.csv\n",
    "*  https://github.com/datasets/gdp/blob/master/data/gdp.csv"
   ]
  }
 ],
 "metadata": {
  "kernelspec": {
   "display_name": "Python 3",
   "language": "python",
   "name": "python3"
  },
  "language_info": {
   "codemirror_mode": {
    "name": "ipython",
    "version": 3
   },
   "file_extension": ".py",
   "mimetype": "text/x-python",
   "name": "python",
   "nbconvert_exporter": "python",
   "pygments_lexer": "ipython3",
   "version": "3.5.2"
  }
 },
 "nbformat": 4,
 "nbformat_minor": 1
}
